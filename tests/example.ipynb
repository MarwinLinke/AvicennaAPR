{
 "cells": [
  {
   "cell_type": "markdown",
   "id": "b3721460c5f9b193",
   "metadata": {},
   "source": [
    "# FixKit Example\n",
    "\n",
    "In this example we demonstrate how to use FixKit to fix a bug in a Python function.\n",
    "We will use the `middle_2` bug from the `tests4py` package as an example."
   ]
  },
  {
   "cell_type": "markdown",
   "id": "c9fa25c03e53fce8",
   "metadata": {},
   "source": [
    "## Step 1: Getting the Faulty Program\n",
    "\n",
    "We will first get the faulty program by checking out the `middle_2` bug from the `tests4py` package.\n",
    "\n",
    "We are going to import the `tests4py` API as `t4p` and then call the `checkout` function with the `middle_2` bug and \n",
    "`tmp` as an output directory."
   ]
  },
  {
   "cell_type": "code",
   "execution_count": 2,
   "id": "initial_id",
   "metadata": {
    "ExecuteTime": {
     "end_time": "2024-06-25T20:29:40.290071Z",
     "start_time": "2024-06-25T20:29:39.494307Z"
    }
   },
   "outputs": [
    {
     "ename": "PermissionError",
     "evalue": "[Errno 13] Permission denied: 'pyenv'",
     "output_type": "error",
     "traceback": [
      "\u001b[0;31m---------------------------------------------------------------------------\u001b[0m",
      "\u001b[0;31mPermissionError\u001b[0m                           Traceback (most recent call last)",
      "Cell \u001b[0;32mIn[2], line 2\u001b[0m\n\u001b[1;32m      1\u001b[0m \u001b[38;5;28;01mfrom\u001b[39;00m \u001b[38;5;21;01mpathlib\u001b[39;00m \u001b[38;5;28;01mimport\u001b[39;00m Path\n\u001b[0;32m----> 2\u001b[0m \u001b[38;5;28;01mimport\u001b[39;00m \u001b[38;5;21;01mtests4py\u001b[39;00m\u001b[38;5;21;01m.\u001b[39;00m\u001b[38;5;21;01mapi\u001b[39;00m \u001b[38;5;28;01mas\u001b[39;00m \u001b[38;5;21;01mt4p\u001b[39;00m\n",
      "File \u001b[0;32m~/GitHub/AvicennaFixKit/venv/lib/python3.10/site-packages/tests4py/api/__init__.py:8\u001b[0m\n\u001b[1;32m      5\u001b[0m \u001b[38;5;28;01mfrom\u001b[39;00m \u001b[38;5;21;01munidiff\u001b[39;00m \u001b[38;5;28;01mimport\u001b[39;00m PatchSet\n\u001b[1;32m      7\u001b[0m \u001b[38;5;28;01mfrom\u001b[39;00m \u001b[38;5;21;01mtests4py\u001b[39;00m\u001b[38;5;21;01m.\u001b[39;00m\u001b[38;5;21;01mapi\u001b[39;00m \u001b[38;5;28;01mimport\u001b[39;00m logging\n\u001b[0;32m----> 8\u001b[0m \u001b[38;5;28;01mfrom\u001b[39;00m \u001b[38;5;21;01mtests4py\u001b[39;00m\u001b[38;5;21;01m.\u001b[39;00m\u001b[38;5;21;01mapi\u001b[39;00m\u001b[38;5;21;01m.\u001b[39;00m\u001b[38;5;21;01mdefault\u001b[39;00m \u001b[38;5;28;01mimport\u001b[39;00m (\n\u001b[1;32m      9\u001b[0m     checkout,\n\u001b[1;32m     10\u001b[0m     build,\n\u001b[1;32m     11\u001b[0m     test,\n\u001b[1;32m     12\u001b[0m     info,\n\u001b[1;32m     13\u001b[0m )\n\u001b[1;32m     14\u001b[0m \u001b[38;5;28;01mfrom\u001b[39;00m \u001b[38;5;21;01mtests4py\u001b[39;00m\u001b[38;5;21;01m.\u001b[39;00m\u001b[38;5;21;01mapi\u001b[39;00m\u001b[38;5;21;01m.\u001b[39;00m\u001b[38;5;21;01mtest\u001b[39;00m \u001b[38;5;28;01mimport\u001b[39;00m (\n\u001b[1;32m     15\u001b[0m     run,\n\u001b[1;32m     16\u001b[0m     get_tests,\n\u001b[0;32m   (...)\u001b[0m\n\u001b[1;32m     20\u001b[0m     unittest_test,\n\u001b[1;32m     21\u001b[0m )\n\u001b[1;32m     22\u001b[0m \u001b[38;5;28;01mfrom\u001b[39;00m \u001b[38;5;21;01mtests4py\u001b[39;00m\u001b[38;5;21;01m.\u001b[39;00m\u001b[38;5;21;01mapi\u001b[39;00m\u001b[38;5;21;01m.\u001b[39;00m\u001b[38;5;21;01mutils\u001b[39;00m \u001b[38;5;28;01mimport\u001b[39;00m setup\n",
      "File \u001b[0;32m~/GitHub/AvicennaFixKit/venv/lib/python3.10/site-packages/tests4py/api/default.py:10\u001b[0m\n\u001b[1;32m      6\u001b[0m \u001b[38;5;28;01mfrom\u001b[39;00m \u001b[38;5;21;01mtyping\u001b[39;00m \u001b[38;5;28;01mimport\u001b[39;00m List, Union, Optional\n\u001b[1;32m      8\u001b[0m \u001b[38;5;28;01mfrom\u001b[39;00m \u001b[38;5;21;01mtabulate\u001b[39;00m \u001b[38;5;28;01mimport\u001b[39;00m tabulate\n\u001b[0;32m---> 10\u001b[0m \u001b[38;5;28;01mfrom\u001b[39;00m \u001b[38;5;21;01mtests4py\u001b[39;00m\u001b[38;5;21;01m.\u001b[39;00m\u001b[38;5;21;01mapi\u001b[39;00m\u001b[38;5;21;01m.\u001b[39;00m\u001b[38;5;21;01mcache\u001b[39;00m \u001b[38;5;28;01mimport\u001b[39;00m (\n\u001b[1;32m     11\u001b[0m     check_cache_exists,\n\u001b[1;32m     12\u001b[0m     copy_cached,\n\u001b[1;32m     13\u001b[0m     cache,\n\u001b[1;32m     14\u001b[0m     check_cache_exists_env,\n\u001b[1;32m     15\u001b[0m     copy_cached_env,\n\u001b[1;32m     16\u001b[0m     cache_venv,\n\u001b[1;32m     17\u001b[0m )\n\u001b[1;32m     18\u001b[0m \u001b[38;5;28;01mfrom\u001b[39;00m \u001b[38;5;21;01mtests4py\u001b[39;00m\u001b[38;5;21;01m.\u001b[39;00m\u001b[38;5;21;01mapi\u001b[39;00m\u001b[38;5;21;01m.\u001b[39;00m\u001b[38;5;21;01mconfig\u001b[39;00m \u001b[38;5;28;01mimport\u001b[39;00m load_config\n\u001b[1;32m     19\u001b[0m \u001b[38;5;28;01mfrom\u001b[39;00m \u001b[38;5;21;01mtests4py\u001b[39;00m\u001b[38;5;21;01m.\u001b[39;00m\u001b[38;5;21;01mapi\u001b[39;00m\u001b[38;5;21;01m.\u001b[39;00m\u001b[38;5;21;01mreport\u001b[39;00m \u001b[38;5;28;01mimport\u001b[39;00m CheckoutReport, CompileReport, InfoReport, TestReport\n",
      "File \u001b[0;32m~/GitHub/AvicennaFixKit/venv/lib/python3.10/site-packages/tests4py/api/cache.py:4\u001b[0m\n\u001b[1;32m      1\u001b[0m \u001b[38;5;28;01mimport\u001b[39;00m \u001b[38;5;21;01mshutil\u001b[39;00m\n\u001b[1;32m      2\u001b[0m \u001b[38;5;28;01mfrom\u001b[39;00m \u001b[38;5;21;01mpathlib\u001b[39;00m \u001b[38;5;28;01mimport\u001b[39;00m Path\n\u001b[0;32m----> 4\u001b[0m \u001b[38;5;28;01mfrom\u001b[39;00m \u001b[38;5;21;01mtests4py\u001b[39;00m\u001b[38;5;21;01m.\u001b[39;00m\u001b[38;5;21;01mconstants\u001b[39;00m \u001b[38;5;28;01mimport\u001b[39;00m GLOBAL_PROJECTS, GLOBAL_GIT, VENV\n\u001b[1;32m      5\u001b[0m \u001b[38;5;28;01mfrom\u001b[39;00m \u001b[38;5;21;01mtests4py\u001b[39;00m\u001b[38;5;21;01m.\u001b[39;00m\u001b[38;5;21;01mprojects\u001b[39;00m \u001b[38;5;28;01mimport\u001b[39;00m Project\n\u001b[1;32m      8\u001b[0m \u001b[38;5;28;01mdef\u001b[39;00m \u001b[38;5;21mcheck_cache_exists\u001b[39m(project: Project):\n",
      "File \u001b[0;32m~/GitHub/AvicennaFixKit/venv/lib/python3.10/site-packages/tests4py/constants.py:108\u001b[0m\n\u001b[1;32m    104\u001b[0m     IS_POWER_SHELL \u001b[38;5;241m=\u001b[39m \u001b[38;5;28;01mFalse\u001b[39;00m\n\u001b[1;32m    106\u001b[0m PYENV \u001b[38;5;241m=\u001b[39m \u001b[38;5;124m\"\u001b[39m\u001b[38;5;124mpyenv\u001b[39m\u001b[38;5;124m\"\u001b[39m\n\u001b[0;32m--> 108\u001b[0m \u001b[38;5;28;01mif\u001b[39;00m \u001b[43mcheck_pyenv\u001b[49m\u001b[43m(\u001b[49m\u001b[43mPYENV\u001b[49m\u001b[43m)\u001b[49m:\n\u001b[1;32m    109\u001b[0m     PYENV_EXISTS \u001b[38;5;241m=\u001b[39m \u001b[38;5;28;01mTrue\u001b[39;00m\n\u001b[1;32m    110\u001b[0m \u001b[38;5;28;01melse\u001b[39;00m:\n",
      "File \u001b[0;32m~/GitHub/AvicennaFixKit/venv/lib/python3.10/site-packages/tests4py/constants.py:88\u001b[0m, in \u001b[0;36mcheck_pyenv\u001b[0;34m(pyenv)\u001b[0m\n\u001b[1;32m     86\u001b[0m \u001b[38;5;28;01mdef\u001b[39;00m \u001b[38;5;21mcheck_pyenv\u001b[39m(pyenv):\n\u001b[1;32m     87\u001b[0m     \u001b[38;5;28;01mtry\u001b[39;00m:\n\u001b[0;32m---> 88\u001b[0m         _ \u001b[38;5;241m=\u001b[39m \u001b[43msubprocess\u001b[49m\u001b[38;5;241;43m.\u001b[39;49m\u001b[43mcheck_output\u001b[49m\u001b[43m(\u001b[49m\u001b[43m[\u001b[49m\u001b[43mpyenv\u001b[49m\u001b[43m,\u001b[49m\u001b[43m \u001b[49m\u001b[38;5;124;43m\"\u001b[39;49m\u001b[38;5;124;43m--version\u001b[39;49m\u001b[38;5;124;43m\"\u001b[39;49m\u001b[43m]\u001b[49m\u001b[43m)\u001b[49m\n\u001b[1;32m     89\u001b[0m     \u001b[38;5;28;01mexcept\u001b[39;00m \u001b[38;5;167;01mFileNotFoundError\u001b[39;00m:\n\u001b[1;32m     90\u001b[0m         \u001b[38;5;28;01mreturn\u001b[39;00m \u001b[38;5;28;01mFalse\u001b[39;00m\n",
      "File \u001b[0;32m/usr/lib/python3.10/subprocess.py:421\u001b[0m, in \u001b[0;36mcheck_output\u001b[0;34m(timeout, *popenargs, **kwargs)\u001b[0m\n\u001b[1;32m    418\u001b[0m         empty \u001b[38;5;241m=\u001b[39m \u001b[38;5;124mb\u001b[39m\u001b[38;5;124m'\u001b[39m\u001b[38;5;124m'\u001b[39m\n\u001b[1;32m    419\u001b[0m     kwargs[\u001b[38;5;124m'\u001b[39m\u001b[38;5;124minput\u001b[39m\u001b[38;5;124m'\u001b[39m] \u001b[38;5;241m=\u001b[39m empty\n\u001b[0;32m--> 421\u001b[0m \u001b[38;5;28;01mreturn\u001b[39;00m \u001b[43mrun\u001b[49m\u001b[43m(\u001b[49m\u001b[38;5;241;43m*\u001b[39;49m\u001b[43mpopenargs\u001b[49m\u001b[43m,\u001b[49m\u001b[43m \u001b[49m\u001b[43mstdout\u001b[49m\u001b[38;5;241;43m=\u001b[39;49m\u001b[43mPIPE\u001b[49m\u001b[43m,\u001b[49m\u001b[43m \u001b[49m\u001b[43mtimeout\u001b[49m\u001b[38;5;241;43m=\u001b[39;49m\u001b[43mtimeout\u001b[49m\u001b[43m,\u001b[49m\u001b[43m \u001b[49m\u001b[43mcheck\u001b[49m\u001b[38;5;241;43m=\u001b[39;49m\u001b[38;5;28;43;01mTrue\u001b[39;49;00m\u001b[43m,\u001b[49m\n\u001b[1;32m    422\u001b[0m \u001b[43m           \u001b[49m\u001b[38;5;241;43m*\u001b[39;49m\u001b[38;5;241;43m*\u001b[39;49m\u001b[43mkwargs\u001b[49m\u001b[43m)\u001b[49m\u001b[38;5;241m.\u001b[39mstdout\n",
      "File \u001b[0;32m/usr/lib/python3.10/subprocess.py:503\u001b[0m, in \u001b[0;36mrun\u001b[0;34m(input, capture_output, timeout, check, *popenargs, **kwargs)\u001b[0m\n\u001b[1;32m    500\u001b[0m     kwargs[\u001b[38;5;124m'\u001b[39m\u001b[38;5;124mstdout\u001b[39m\u001b[38;5;124m'\u001b[39m] \u001b[38;5;241m=\u001b[39m PIPE\n\u001b[1;32m    501\u001b[0m     kwargs[\u001b[38;5;124m'\u001b[39m\u001b[38;5;124mstderr\u001b[39m\u001b[38;5;124m'\u001b[39m] \u001b[38;5;241m=\u001b[39m PIPE\n\u001b[0;32m--> 503\u001b[0m \u001b[38;5;28;01mwith\u001b[39;00m \u001b[43mPopen\u001b[49m\u001b[43m(\u001b[49m\u001b[38;5;241;43m*\u001b[39;49m\u001b[43mpopenargs\u001b[49m\u001b[43m,\u001b[49m\u001b[43m \u001b[49m\u001b[38;5;241;43m*\u001b[39;49m\u001b[38;5;241;43m*\u001b[39;49m\u001b[43mkwargs\u001b[49m\u001b[43m)\u001b[49m \u001b[38;5;28;01mas\u001b[39;00m process:\n\u001b[1;32m    504\u001b[0m     \u001b[38;5;28;01mtry\u001b[39;00m:\n\u001b[1;32m    505\u001b[0m         stdout, stderr \u001b[38;5;241m=\u001b[39m process\u001b[38;5;241m.\u001b[39mcommunicate(\u001b[38;5;28minput\u001b[39m, timeout\u001b[38;5;241m=\u001b[39mtimeout)\n",
      "File \u001b[0;32m/usr/lib/python3.10/subprocess.py:971\u001b[0m, in \u001b[0;36mPopen.__init__\u001b[0;34m(self, args, bufsize, executable, stdin, stdout, stderr, preexec_fn, close_fds, shell, cwd, env, universal_newlines, startupinfo, creationflags, restore_signals, start_new_session, pass_fds, user, group, extra_groups, encoding, errors, text, umask, pipesize)\u001b[0m\n\u001b[1;32m    967\u001b[0m         \u001b[38;5;28;01mif\u001b[39;00m \u001b[38;5;28mself\u001b[39m\u001b[38;5;241m.\u001b[39mtext_mode:\n\u001b[1;32m    968\u001b[0m             \u001b[38;5;28mself\u001b[39m\u001b[38;5;241m.\u001b[39mstderr \u001b[38;5;241m=\u001b[39m io\u001b[38;5;241m.\u001b[39mTextIOWrapper(\u001b[38;5;28mself\u001b[39m\u001b[38;5;241m.\u001b[39mstderr,\n\u001b[1;32m    969\u001b[0m                     encoding\u001b[38;5;241m=\u001b[39mencoding, errors\u001b[38;5;241m=\u001b[39merrors)\n\u001b[0;32m--> 971\u001b[0m     \u001b[38;5;28;43mself\u001b[39;49m\u001b[38;5;241;43m.\u001b[39;49m\u001b[43m_execute_child\u001b[49m\u001b[43m(\u001b[49m\u001b[43margs\u001b[49m\u001b[43m,\u001b[49m\u001b[43m \u001b[49m\u001b[43mexecutable\u001b[49m\u001b[43m,\u001b[49m\u001b[43m \u001b[49m\u001b[43mpreexec_fn\u001b[49m\u001b[43m,\u001b[49m\u001b[43m \u001b[49m\u001b[43mclose_fds\u001b[49m\u001b[43m,\u001b[49m\n\u001b[1;32m    972\u001b[0m \u001b[43m                        \u001b[49m\u001b[43mpass_fds\u001b[49m\u001b[43m,\u001b[49m\u001b[43m \u001b[49m\u001b[43mcwd\u001b[49m\u001b[43m,\u001b[49m\u001b[43m \u001b[49m\u001b[43menv\u001b[49m\u001b[43m,\u001b[49m\n\u001b[1;32m    973\u001b[0m \u001b[43m                        \u001b[49m\u001b[43mstartupinfo\u001b[49m\u001b[43m,\u001b[49m\u001b[43m \u001b[49m\u001b[43mcreationflags\u001b[49m\u001b[43m,\u001b[49m\u001b[43m \u001b[49m\u001b[43mshell\u001b[49m\u001b[43m,\u001b[49m\n\u001b[1;32m    974\u001b[0m \u001b[43m                        \u001b[49m\u001b[43mp2cread\u001b[49m\u001b[43m,\u001b[49m\u001b[43m \u001b[49m\u001b[43mp2cwrite\u001b[49m\u001b[43m,\u001b[49m\n\u001b[1;32m    975\u001b[0m \u001b[43m                        \u001b[49m\u001b[43mc2pread\u001b[49m\u001b[43m,\u001b[49m\u001b[43m \u001b[49m\u001b[43mc2pwrite\u001b[49m\u001b[43m,\u001b[49m\n\u001b[1;32m    976\u001b[0m \u001b[43m                        \u001b[49m\u001b[43merrread\u001b[49m\u001b[43m,\u001b[49m\u001b[43m \u001b[49m\u001b[43merrwrite\u001b[49m\u001b[43m,\u001b[49m\n\u001b[1;32m    977\u001b[0m \u001b[43m                        \u001b[49m\u001b[43mrestore_signals\u001b[49m\u001b[43m,\u001b[49m\n\u001b[1;32m    978\u001b[0m \u001b[43m                        \u001b[49m\u001b[43mgid\u001b[49m\u001b[43m,\u001b[49m\u001b[43m \u001b[49m\u001b[43mgids\u001b[49m\u001b[43m,\u001b[49m\u001b[43m \u001b[49m\u001b[43muid\u001b[49m\u001b[43m,\u001b[49m\u001b[43m \u001b[49m\u001b[43mumask\u001b[49m\u001b[43m,\u001b[49m\n\u001b[1;32m    979\u001b[0m \u001b[43m                        \u001b[49m\u001b[43mstart_new_session\u001b[49m\u001b[43m)\u001b[49m\n\u001b[1;32m    980\u001b[0m \u001b[38;5;28;01mexcept\u001b[39;00m:\n\u001b[1;32m    981\u001b[0m     \u001b[38;5;66;03m# Cleanup if the child failed starting.\u001b[39;00m\n\u001b[1;32m    982\u001b[0m     \u001b[38;5;28;01mfor\u001b[39;00m f \u001b[38;5;129;01min\u001b[39;00m \u001b[38;5;28mfilter\u001b[39m(\u001b[38;5;28;01mNone\u001b[39;00m, (\u001b[38;5;28mself\u001b[39m\u001b[38;5;241m.\u001b[39mstdin, \u001b[38;5;28mself\u001b[39m\u001b[38;5;241m.\u001b[39mstdout, \u001b[38;5;28mself\u001b[39m\u001b[38;5;241m.\u001b[39mstderr)):\n",
      "File \u001b[0;32m/usr/lib/python3.10/subprocess.py:1863\u001b[0m, in \u001b[0;36mPopen._execute_child\u001b[0;34m(self, args, executable, preexec_fn, close_fds, pass_fds, cwd, env, startupinfo, creationflags, shell, p2cread, p2cwrite, c2pread, c2pwrite, errread, errwrite, restore_signals, gid, gids, uid, umask, start_new_session)\u001b[0m\n\u001b[1;32m   1861\u001b[0m     \u001b[38;5;28;01mif\u001b[39;00m errno_num \u001b[38;5;241m!=\u001b[39m \u001b[38;5;241m0\u001b[39m:\n\u001b[1;32m   1862\u001b[0m         err_msg \u001b[38;5;241m=\u001b[39m os\u001b[38;5;241m.\u001b[39mstrerror(errno_num)\n\u001b[0;32m-> 1863\u001b[0m     \u001b[38;5;28;01mraise\u001b[39;00m child_exception_type(errno_num, err_msg, err_filename)\n\u001b[1;32m   1864\u001b[0m \u001b[38;5;28;01mraise\u001b[39;00m child_exception_type(err_msg)\n",
      "\u001b[0;31mPermissionError\u001b[0m: [Errno 13] Permission denied: 'pyenv'"
     ]
    }
   ],
   "source": [
    "from pathlib import Path\n",
    "import tests4py.api as t4p"
   ]
  },
  {
   "cell_type": "code",
   "execution_count": 2,
   "id": "1756c2040eb7ec16",
   "metadata": {
    "ExecuteTime": {
     "end_time": "2024-06-25T20:29:40.507994Z",
     "start_time": "2024-06-25T20:29:40.293243Z"
    }
   },
   "outputs": [
    {
     "ename": "NameError",
     "evalue": "name 't4p' is not defined",
     "output_type": "error",
     "traceback": [
      "\u001b[0;31m---------------------------------------------------------------------------\u001b[0m",
      "\u001b[0;31mNameError\u001b[0m                                 Traceback (most recent call last)",
      "Cell \u001b[0;32mIn[2], line 1\u001b[0m\n\u001b[0;32m----> 1\u001b[0m report \u001b[38;5;241m=\u001b[39m \u001b[43mt4p\u001b[49m\u001b[38;5;241m.\u001b[39mcheckout(t4p\u001b[38;5;241m.\u001b[39mmiddle_2, Path(\u001b[38;5;124m\"\u001b[39m\u001b[38;5;124mtmp\u001b[39m\u001b[38;5;124m\"\u001b[39m))\n\u001b[1;32m      2\u001b[0m \u001b[38;5;28;01mif\u001b[39;00m report\u001b[38;5;241m.\u001b[39mraised: \u001b[38;5;28;01mraise\u001b[39;00m report\u001b[38;5;241m.\u001b[39mraised\n",
      "\u001b[0;31mNameError\u001b[0m: name 't4p' is not defined"
     ]
    }
   ],
   "source": [
    "report = t4p.checkout(t4p.middle_2, Path(\"tmp\"))\n",
    "if report.raised: raise report.raised"
   ]
  },
  {
   "cell_type": "markdown",
   "id": "231e45ef63c81b50",
   "metadata": {},
   "source": [
    "## Step 2: Setting up the Repair Approach\n",
    "\n",
    "In this step, we will set up the repair approach.\n",
    "We will use AE to fix the bug in `middle_2` in this example.\n",
    "\n",
    "We will use the `PyAE` class from the `fixkit.repair.pyae` module to set up the repair approach.\n",
    "We need to provide the source directory, the localization, and the maximal number of mutations `k`.\n",
    "As the `middle_2` bug from `tests4py`, we will use the `Tests4PyLocalization` class from the \n",
    "`fixkit.localization.t4p` module to localize the fault.\n",
    "\n",
    "Moreover, we will set the `is_t4p` parameter to `True` to indicate that the bug is from `tests4py`.\n",
    "\n",
    "Finally, we will set the `line_mode` parameter to `True`. \n",
    "With this parameter, the repair approach will only consider statements that are inline, i.e., not containing a block.\n",
    "For example, the repair approach will consider the statement `return x` but not the statement `if x: return x`."
   ]
  },
  {
   "cell_type": "code",
   "execution_count": 3,
   "id": "a7014587440e82a8",
   "metadata": {
    "ExecuteTime": {
     "end_time": "2024-06-25T20:29:40.577499Z",
     "start_time": "2024-06-25T20:29:40.510139Z"
    }
   },
   "outputs": [],
   "source": [
    "from fixkit.repair.pyae import PyAE\n",
    "from fixkit.localization.t4p import Tests4PyLocalization\n",
    "from fixkit.constants import DEFAULT_EXCLUDES"
   ]
  },
  {
   "cell_type": "code",
   "execution_count": 4,
   "id": "f6718d5b54222071",
   "metadata": {
    "ExecuteTime": {
     "end_time": "2024-06-25T20:29:40.598252Z",
     "start_time": "2024-06-25T20:29:40.581590Z"
    }
   },
   "outputs": [
    {
     "name": "stderr",
     "output_type": "stream",
     "text": [
      "fixkit :: INFO     :: Searching for statements in the source.\n",
      "fixkit :: INFO     :: Building the initial candidate.\n"
     ]
    }
   ],
   "source": [
    "approach = PyAE.from_source(\n",
    "    Path(\"tmp\", \"middle_2\"),\n",
    "    excludes=DEFAULT_EXCLUDES,\n",
    "    localization=Tests4PyLocalization(\n",
    "        Path(\"tmp\", \"middle_2\"),\n",
    "        events=[\"line\"],\n",
    "        predicates=[\"line\"],\n",
    "        metric=\"Ochiai\",\n",
    "    ),\n",
    "    k=1,\n",
    "    is_t4p=True,\n",
    "    line_mode=True,\n",
    ")"
   ]
  },
  {
   "cell_type": "markdown",
   "id": "6a421629c8f3abae",
   "metadata": {},
   "source": [
    "With the repair approach set up, we can now repair the bug in `middle_2`."
   ]
  },
  {
   "cell_type": "code",
   "execution_count": 5,
   "id": "cae7dc8fccab0ff6",
   "metadata": {
    "ExecuteTime": {
     "end_time": "2024-06-25T20:29:57.170131Z",
     "start_time": "2024-06-25T20:29:40.600131Z"
    }
   },
   "outputs": [
    {
     "name": "stderr",
     "output_type": "stream",
     "text": [
      "fixkit :: INFO     :: Localizing the faulty code locations.\n",
      "tests4py :: INFO     :: Checking whether Tests4Py project\n",
      "tests4py :: INFO     :: Loading projects\n",
      "sflkit :: INFO     :: I found 10 events in /Users/marius/Desktop/work/projects/fixkit/tmp/middle_2/src/middle/__init__.py.\n",
      "sflkit :: INFO     :: I found 10 events in /Users/marius/Desktop/work/projects/fixkit/tmp/middle_2.\n",
      "tests4py :: INFO     :: Checking whether Tests4Py project\n",
      "tests4py :: INFO     :: Loading projects\n",
      "tests4py :: INFO     :: Checking for platform darwin\n",
      "tests4py :: INFO     :: Check for activated python version\n",
      "tests4py :: INFO     :: Using pyenv python 3.10.9\n",
      "tests4py :: INFO     :: Activating virtual env\n",
      "tests4py :: INFO     :: Run setup\n",
      "\n",
      "\u001b[1m[\u001b[0m\u001b[34;49mnotice\u001b[0m\u001b[1;39;49m]\u001b[0m\u001b[39;49m A new release of pip is available: \u001b[0m\u001b[31;49m23.2.1\u001b[0m\u001b[39;49m -> \u001b[0m\u001b[32;49m24.1\u001b[0m\n",
      "\u001b[1m[\u001b[0m\u001b[34;49mnotice\u001b[0m\u001b[1;39;49m]\u001b[0m\u001b[39;49m To update, run: \u001b[0m\u001b[32;49mpip install --upgrade pip\u001b[0m\n",
      "tests4py :: INFO     :: Set compiled flag\n",
      "tests4py :: INFO     :: Checking whether Tests4Py project\n",
      "tests4py :: INFO     :: Loading projects\n",
      "tests4py :: INFO     :: Checking for platform darwin\n",
      "tests4py :: INFO     :: Check for activated python version\n",
      "tests4py :: INFO     :: Using pyenv python 3.10.9\n",
      "tests4py :: INFO     :: Activating virtual env\n",
      "tests4py :: INFO     :: Checking whether Tests4Py project\n",
      "tests4py :: INFO     :: Loading projects\n",
      "tests4py :: INFO     :: Checking whether Tests4Py project\n",
      "tests4py :: INFO     :: Loading projects\n",
      "tests4py :: INFO     :: middle_2_buggy already compiled\n",
      "tests4py :: INFO     :: Checking whether Tests4Py project\n",
      "tests4py :: INFO     :: Loading projects\n",
      "tests4py :: INFO     :: Checking for platform darwin\n",
      "tests4py :: INFO     :: Check for activated python version\n",
      "tests4py :: INFO     :: Using pyenv python 3.10.9\n",
      "tests4py :: INFO     :: Activating virtual env\n",
      "tests4py :: INFO     :: Run tests with command ['python', '-m', 'pytest', '--rootdir=/Users/marius/Desktop/work/projects/fixkit/rep/sequential', '--junit-xml=/Users/marius/Desktop/work/projects/fixkit/rep/iterative.xml', PosixPath('tests/test_middle.py')]\n",
      "tests4py :: INFO     :: \u001b[1m============================= test session starts ==============================\u001b[0m\n",
      "platform darwin -- Python 3.10.9, pytest-7.4.1, pluggy-1.3.0\n",
      "rootdir: /Users/marius/Desktop/work/projects/fixkit/rep/sequential\n",
      "collected 6 items\n",
      "\n",
      "tests/test_middle.py \u001b[32m.\u001b[0m\u001b[31mF\u001b[0m\u001b[32m.\u001b[0m\u001b[31mF\u001b[0m\u001b[32m.\u001b[0m\u001b[32m.\u001b[0m\u001b[31m                                              [100%]\u001b[0m\n",
      "\n",
      "=================================== FAILURES ===================================\n",
      "\u001b[31m\u001b[1m__________________________ TestMiddle.test_middle_213 __________________________\u001b[0m\n",
      "\n",
      "self = <test_middle.TestMiddle testMethod=test_middle_213>\n",
      "\n",
      "    def test_middle_213(self):\n",
      ">       self.assertEqual(2, middle(2, 1, 3))\n",
      "\u001b[1m\u001b[31mE       AssertionError: 2 != 3\u001b[0m\n",
      "\n",
      "\u001b[1m\u001b[31mtests/test_middle.py\u001b[0m:23: AssertionError\n",
      "\u001b[31m\u001b[1m__________________________ TestMiddle.test_middle_335 __________________________\u001b[0m\n",
      "\n",
      "self = <test_middle.TestMiddle testMethod=test_middle_335>\n",
      "\n",
      "    def test_middle_335(self):\n",
      ">       self.assertEqual(3, middle(3, 3, 5))\n",
      "\u001b[1m\u001b[31mE       AssertionError: 3 != 5\u001b[0m\n",
      "\n",
      "\u001b[1m\u001b[31mtests/test_middle.py\u001b[0m:8: AssertionError\n",
      "- generated xml file: /Users/marius/Desktop/work/projects/fixkit/rep/iterative.xml -\n",
      "\u001b[36m\u001b[1m=========================== short test summary info ============================\u001b[0m\n",
      "\u001b[31mFAILED\u001b[0m tests/test_middle.py::\u001b[1mTestMiddle::test_middle_213\u001b[0m - AssertionError: 2 != 3\n",
      "\u001b[31mFAILED\u001b[0m tests/test_middle.py::\u001b[1mTestMiddle::test_middle_335\u001b[0m - AssertionError: 3 != 5\n",
      "\u001b[31m========================= \u001b[31m\u001b[1m2 failed\u001b[0m, \u001b[32m4 passed\u001b[0m\u001b[31m in 0.07s\u001b[0m\u001b[31m ==========================\u001b[0m\n",
      "\n",
      "tests4py :: INFO     :: Ran 6 tests\n",
      "tests4py :: INFO     :: 4 passed --- 2 failed\n",
      "tests4py :: INFO     :: Checking whether Tests4Py project\n",
      "tests4py :: INFO     :: Loading projects\n",
      "tests4py :: INFO     :: middle_2_buggy already compiled\n",
      "tests4py :: INFO     :: Checking whether Tests4Py project\n",
      "tests4py :: INFO     :: Loading projects\n",
      "tests4py :: INFO     :: Checking for platform darwin\n",
      "tests4py :: INFO     :: Check for activated python version\n",
      "tests4py :: INFO     :: Using pyenv python 3.10.9\n",
      "tests4py :: INFO     :: Activating virtual env\n",
      "tests4py :: INFO     :: Run tests with command ['python', '-m', 'pytest', '--rootdir=/Users/marius/Desktop/work/projects/fixkit/rep/sequential', '--junit-xml=/Users/marius/Desktop/work/projects/fixkit/rep/iterative.xml', PosixPath('tests/test_middle.py')]\n",
      "tests4py :: INFO     :: \u001b[1m============================= test session starts ==============================\u001b[0m\n",
      "platform darwin -- Python 3.10.9, pytest-7.4.1, pluggy-1.3.0\n",
      "rootdir: /Users/marius/Desktop/work/projects/fixkit/rep/sequential\n",
      "collected 6 items\n",
      "\n",
      "tests/test_middle.py \u001b[32m.\u001b[0m\u001b[32m.\u001b[0m\u001b[32m.\u001b[0m\u001b[32m.\u001b[0m\u001b[32m.\u001b[0m\u001b[32m.\u001b[0m\u001b[32m                                              [100%]\u001b[0m\n",
      "\n",
      "- generated xml file: /Users/marius/Desktop/work/projects/fixkit/rep/iterative.xml -\n",
      "\u001b[32m============================== \u001b[32m\u001b[1m6 passed\u001b[0m\u001b[32m in 0.03s\u001b[0m\u001b[32m ===============================\u001b[0m\n",
      "\n",
      "tests4py :: INFO     :: Ran 6 tests\n",
      "tests4py :: INFO     :: 6 passed --- 0 failed\n",
      "tests4py :: INFO     :: Checking whether Tests4Py project\n",
      "tests4py :: INFO     :: Loading projects\n",
      "tests4py :: INFO     :: Checking for platform darwin\n",
      "tests4py :: INFO     :: Check for activated python version\n",
      "tests4py :: INFO     :: Using pyenv python 3.10.9\n",
      "tests4py :: INFO     :: Activating virtual env\n",
      "tests4py :: INFO     :: Run tests with command ['python', '-m', 'pytest', '--rootdir=/Users/marius/Desktop/work/projects/fixkit/rep/sequential', '--junit-xml=/Users/marius/Desktop/work/projects/fixkit/rep/iterative.xml', PosixPath('tests/test_middle.py')]\n",
      "tests4py :: INFO     :: \u001b[1m============================= test session starts ==============================\u001b[0m\n",
      "platform darwin -- Python 3.10.9, pytest-7.4.1, pluggy-1.3.0\n",
      "rootdir: /Users/marius/Desktop/work/projects/fixkit/rep/sequential\n",
      "collected 6 items\n",
      "\n",
      "tests/test_middle.py \u001b[32m.\u001b[0m\u001b[32m.\u001b[0m\u001b[32m.\u001b[0m\u001b[32m.\u001b[0m\u001b[32m.\u001b[0m\u001b[32m.\u001b[0m\u001b[32m                                              [100%]\u001b[0m\n",
      "\n",
      "- generated xml file: /Users/marius/Desktop/work/projects/fixkit/rep/iterative.xml -\n",
      "\u001b[32m============================== \u001b[32m\u001b[1m6 passed\u001b[0m\u001b[32m in 0.03s\u001b[0m\u001b[32m ===============================\u001b[0m\n",
      "\n",
      "tests4py :: INFO     :: Ran 6 tests\n",
      "tests4py :: INFO     :: 6 passed --- 0 failed\n",
      "tests4py :: INFO     :: Checking whether Tests4Py project\n",
      "tests4py :: INFO     :: Loading projects\n",
      "tests4py :: INFO     :: Checking for platform darwin\n",
      "tests4py :: INFO     :: Check for activated python version\n",
      "tests4py :: INFO     :: Using pyenv python 3.10.9\n",
      "tests4py :: INFO     :: Activating virtual env\n",
      "tests4py :: INFO     :: Run tests with command ['python', '-m', 'pytest', '--rootdir=/Users/marius/Desktop/work/projects/fixkit/rep/sequential', '--junit-xml=/Users/marius/Desktop/work/projects/fixkit/rep/iterative.xml', PosixPath('tests/test_middle.py')]\n",
      "tests4py :: INFO     :: \u001b[1m============================= test session starts ==============================\u001b[0m\n",
      "platform darwin -- Python 3.10.9, pytest-7.4.1, pluggy-1.3.0\n",
      "rootdir: /Users/marius/Desktop/work/projects/fixkit/rep/sequential\n",
      "collected 6 items\n",
      "\n",
      "tests/test_middle.py \u001b[32m.\u001b[0m\u001b[32m.\u001b[0m\u001b[32m.\u001b[0m\u001b[32m.\u001b[0m\u001b[32m.\u001b[0m\u001b[32m.\u001b[0m\u001b[32m                                              [100%]\u001b[0m\n",
      "\n",
      "- generated xml file: /Users/marius/Desktop/work/projects/fixkit/rep/iterative.xml -\n",
      "\u001b[32m============================== \u001b[32m\u001b[1m6 passed\u001b[0m\u001b[32m in 0.04s\u001b[0m\u001b[32m ===============================\u001b[0m\n",
      "\n",
      "tests4py :: INFO     :: Ran 6 tests\n",
      "tests4py :: INFO     :: 6 passed --- 0 failed\n",
      "tests4py :: INFO     :: Checking whether Tests4Py project\n",
      "tests4py :: INFO     :: Loading projects\n",
      "tests4py :: INFO     :: Checking for platform darwin\n",
      "tests4py :: INFO     :: Check for activated python version\n",
      "tests4py :: INFO     :: Using pyenv python 3.10.9\n",
      "tests4py :: INFO     :: Activating virtual env\n",
      "tests4py :: INFO     :: Run tests with command ['python', '-m', 'pytest', '--rootdir=/Users/marius/Desktop/work/projects/fixkit/rep/sequential', '--junit-xml=/Users/marius/Desktop/work/projects/fixkit/rep/iterative.xml', PosixPath('tests/test_middle.py')]\n",
      "tests4py :: INFO     :: \u001b[1m============================= test session starts ==============================\u001b[0m\n",
      "platform darwin -- Python 3.10.9, pytest-7.4.1, pluggy-1.3.0\n",
      "rootdir: /Users/marius/Desktop/work/projects/fixkit/rep/sequential\n",
      "collected 6 items\n",
      "\n",
      "tests/test_middle.py \u001b[32m.\u001b[0m\u001b[32m.\u001b[0m\u001b[32m.\u001b[0m\u001b[32m.\u001b[0m\u001b[32m.\u001b[0m\u001b[32m.\u001b[0m\u001b[32m                                              [100%]\u001b[0m\n",
      "\n",
      "- generated xml file: /Users/marius/Desktop/work/projects/fixkit/rep/iterative.xml -\n",
      "\u001b[32m============================== \u001b[32m\u001b[1m6 passed\u001b[0m\u001b[32m in 0.03s\u001b[0m\u001b[32m ===============================\u001b[0m\n",
      "\n",
      "tests4py :: INFO     :: Ran 6 tests\n",
      "tests4py :: INFO     :: 6 passed --- 0 failed\n",
      "tests4py :: INFO     :: Checking whether Tests4Py project\n",
      "tests4py :: INFO     :: Loading projects\n",
      "tests4py :: INFO     :: Checking for platform darwin\n",
      "tests4py :: INFO     :: Check for activated python version\n",
      "tests4py :: INFO     :: Using pyenv python 3.10.9\n",
      "tests4py :: INFO     :: Activating virtual env\n",
      "tests4py :: INFO     :: Run tests with command ['python', '-m', 'pytest', '--rootdir=/Users/marius/Desktop/work/projects/fixkit/rep/sequential', '--junit-xml=/Users/marius/Desktop/work/projects/fixkit/rep/iterative.xml', PosixPath('tests/test_middle.py')]\n",
      "tests4py :: INFO     :: \u001b[1m============================= test session starts ==============================\u001b[0m\n",
      "platform darwin -- Python 3.10.9, pytest-7.4.1, pluggy-1.3.0\n",
      "rootdir: /Users/marius/Desktop/work/projects/fixkit/rep/sequential\n",
      "collected 6 items\n",
      "\n",
      "tests/test_middle.py \u001b[32m.\u001b[0m\u001b[32m.\u001b[0m\u001b[32m.\u001b[0m\u001b[32m.\u001b[0m\u001b[32m.\u001b[0m\u001b[32m.\u001b[0m\u001b[32m                                              [100%]\u001b[0m\n",
      "\n",
      "- generated xml file: /Users/marius/Desktop/work/projects/fixkit/rep/iterative.xml -\n",
      "\u001b[32m============================== \u001b[32m\u001b[1m6 passed\u001b[0m\u001b[32m in 0.03s\u001b[0m\u001b[32m ===============================\u001b[0m\n",
      "\n",
      "tests4py :: INFO     :: Ran 6 tests\n",
      "tests4py :: INFO     :: 6 passed --- 0 failed\n",
      "tests4py :: INFO     :: Checking whether Tests4Py project\n",
      "tests4py :: INFO     :: Loading projects\n",
      "tests4py :: INFO     :: Checking for platform darwin\n",
      "tests4py :: INFO     :: Check for activated python version\n",
      "tests4py :: INFO     :: Using pyenv python 3.10.9\n",
      "tests4py :: INFO     :: Activating virtual env\n",
      "tests4py :: INFO     :: Run tests with command ['python', '-m', 'pytest', '--rootdir=/Users/marius/Desktop/work/projects/fixkit/rep/sequential', '--junit-xml=/Users/marius/Desktop/work/projects/fixkit/rep/iterative.xml', PosixPath('tests/test_middle.py')]\n",
      "tests4py :: INFO     :: \u001b[1m============================= test session starts ==============================\u001b[0m\n",
      "platform darwin -- Python 3.10.9, pytest-7.4.1, pluggy-1.3.0\n",
      "rootdir: /Users/marius/Desktop/work/projects/fixkit/rep/sequential\n",
      "collected 6 items\n",
      "\n",
      "tests/test_middle.py \u001b[32m.\u001b[0m\u001b[32m.\u001b[0m\u001b[32m.\u001b[0m\u001b[32m.\u001b[0m\u001b[32m.\u001b[0m\u001b[32m.\u001b[0m\u001b[32m                                              [100%]\u001b[0m\n",
      "\n",
      "- generated xml file: /Users/marius/Desktop/work/projects/fixkit/rep/iterative.xml -\n",
      "\u001b[32m============================== \u001b[32m\u001b[1m6 passed\u001b[0m\u001b[32m in 0.03s\u001b[0m\u001b[32m ===============================\u001b[0m\n",
      "\n",
      "tests4py :: INFO     :: Ran 6 tests\n",
      "tests4py :: INFO     :: 6 passed --- 0 failed\n",
      "fixkit :: INFO     :: The best candidate has a fitness of 0.00.\n",
      "fixkit :: INFO     :: Minimize the best candidates.\n",
      "fixkit :: INFO     :: Found 1 possible repairs.\n"
     ]
    }
   ],
   "source": [
    "patches = approach.repair()"
   ]
  },
  {
   "cell_type": "markdown",
   "id": "ebd69aac00bb2031",
   "metadata": {},
   "source": [
    "This will return a list of possible patches.\n",
    "Since AE is deterministic and stops as soon as a possible repair is found, the list will contain only one patch, \n",
    "if one patch is found."
   ]
  },
  {
   "cell_type": "code",
   "execution_count": 6,
   "id": "cde691bcee9e75e1",
   "metadata": {
    "ExecuteTime": {
     "end_time": "2024-06-25T20:29:57.179006Z",
     "start_time": "2024-06-25T20:29:57.173404Z"
    }
   },
   "outputs": [],
   "source": [
    "patch = patches[0]"
   ]
  },
  {
   "cell_type": "markdown",
   "id": "d3512508309ac6e8",
   "metadata": {},
   "source": [
    "We can now investigate the mutations the patch applies."
   ]
  },
  {
   "cell_type": "code",
   "execution_count": 7,
   "id": "8a6e06e9cb6a9d95",
   "metadata": {
    "ExecuteTime": {
     "end_time": "2024-06-25T20:29:57.193535Z",
     "start_time": "2024-06-25T20:29:57.181956Z"
    }
   },
   "outputs": [
    {
     "data": {
      "text/plain": [
       "[InsertBefore(1,3)]"
      ]
     },
     "execution_count": 7,
     "metadata": {},
     "output_type": "execute_result"
    }
   ],
   "source": [
    "patch.mutations"
   ]
  },
  {
   "cell_type": "markdown",
   "id": "5714f098bb4bc52e",
   "metadata": {},
   "source": [
    "Let us check what statements are affected by the patch.\n",
    "The mutation inserts statement 3 before statement 1."
   ]
  },
  {
   "cell_type": "code",
   "execution_count": 8,
   "id": "200a31e5e70e0ea2",
   "metadata": {
    "ExecuteTime": {
     "end_time": "2024-06-25T20:29:57.199469Z",
     "start_time": "2024-06-25T20:29:57.195456Z"
    }
   },
   "outputs": [
    {
     "name": "stdout",
     "output_type": "stream",
     "text": [
      "return x\n"
     ]
    }
   ],
   "source": [
    "import ast\n",
    "print(ast.unparse(patch.statements[3]))"
   ]
  },
  {
   "cell_type": "code",
   "execution_count": 9,
   "id": "ae5d7e75e5e1f373",
   "metadata": {
    "ExecuteTime": {
     "end_time": "2024-06-25T20:29:57.209096Z",
     "start_time": "2024-06-25T20:29:57.202983Z"
    }
   },
   "outputs": [
    {
     "name": "stdout",
     "output_type": "stream",
     "text": [
      "return y\n"
     ]
    }
   ],
   "source": [
    "print(ast.unparse(patch.statements[1]))"
   ]
  },
  {
   "cell_type": "markdown",
   "id": "707fb0bc84b82e26",
   "metadata": {},
   "source": [
    "So the patch inserts the statement `return x` before the statement `return y`."
   ]
  },
  {
   "cell_type": "markdown",
   "id": "1834aeacdb6652ae",
   "metadata": {},
   "source": [
    "## Step 3: Applying the Patch\n",
    "\n",
    "Finally, we can apply the patch to the faulty program to retrieve a patch file that can be used to fix the bug."
   ]
  },
  {
   "cell_type": "code",
   "execution_count": 10,
   "id": "d5fcf320c80ba637",
   "metadata": {
    "ExecuteTime": {
     "end_time": "2024-06-25T20:29:57.219424Z",
     "start_time": "2024-06-25T20:29:57.214187Z"
    }
   },
   "outputs": [],
   "source": [
    "from fixkit.repair.patch import get_patch"
   ]
  },
  {
   "cell_type": "code",
   "execution_count": 11,
   "id": "53e2871e020ba6e2",
   "metadata": {
    "ExecuteTime": {
     "end_time": "2024-06-25T20:29:57.228718Z",
     "start_time": "2024-06-25T20:29:57.221444Z"
    }
   },
   "outputs": [
    {
     "name": "stdout",
     "output_type": "stream",
     "text": [
      "--- src/middle/__init__.py\n",
      "+++ src/middle/__init__.py\n",
      "@@ -3,10 +3,10 @@\n",
      "         if x < y:\n",
      "             return y\n",
      "         elif x < z:\n",
      "+            return x\n",
      "             return y\n",
      "-    else:\n",
      "-        if x > y:\n",
      "-            return y\n",
      "-        elif x > z:\n",
      "-            return x\n",
      "-    return z\n",
      "+    elif x > y:\n",
      "+        return y\n",
      "+    elif x > z:\n",
      "+        return x\n",
      "+    return z\n",
      "\n"
     ]
    }
   ],
   "source": [
    "print(get_patch(patch))"
   ]
  },
  {
   "cell_type": "markdown",
   "id": "df411f1791aa4229",
   "metadata": {},
   "source": [
    "Since the patch file is derived directly from the code instead of git, it may contain irrelevant artifacts.\n",
    "In this case, the patch file removes code and replaces it with a semantically equivalent code.\n",
    "This equivalent code is produced by the `ast` module that comprises the `else: if:` into an `elif:`."
   ]
  }
 ],
 "metadata": {
  "kernelspec": {
   "display_name": "Python 3 (ipykernel)",
   "language": "python",
   "name": "python3"
  },
  "language_info": {
   "codemirror_mode": {
    "name": "ipython",
    "version": 3
   },
   "file_extension": ".py",
   "mimetype": "text/x-python",
   "name": "python",
   "nbconvert_exporter": "python",
   "pygments_lexer": "ipython3",
   "version": "3.10.12"
  }
 },
 "nbformat": 4,
 "nbformat_minor": 5
}
